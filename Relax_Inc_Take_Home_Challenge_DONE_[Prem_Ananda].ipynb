{
  "nbformat": 4,
  "nbformat_minor": 0,
  "metadata": {
    "colab": {
      "name": "Relax Inc. Take-Home Challenge_DONE_[Prem Ananda].ipynb",
      "provenance": [],
      "collapsed_sections": [],
      "authorship_tag": "ABX9TyNoEBtHSXHWUWpi9441pz8z",
      "include_colab_link": true
    },
    "kernelspec": {
      "name": "python3",
      "display_name": "Python 3"
    },
    "language_info": {
      "name": "python"
    }
  },
  "cells": [
    {
      "cell_type": "markdown",
      "metadata": {
        "id": "view-in-github",
        "colab_type": "text"
      },
      "source": [
        "<a href=\"https://colab.research.google.com/github/premonish/relax_inc/blob/main/Relax_Inc_Take_Home_Challenge_DONE_%5BPrem_Ananda%5D.ipynb\" target=\"_parent\"><img src=\"https://colab.research.google.com/assets/colab-badge.svg\" alt=\"Open In Colab\"/></a>"
      ]
    },
    {
      "cell_type": "markdown",
      "metadata": {
        "id": "AwoqOJQCKk_2"
      },
      "source": [
        "#**PROBLEM STATEMENT**\n",
        "Defining an \"adopted user\" as a user who has logged into the product on three separate days in at least one seven-day period, identify **which factors predict future user adoption.**\n",
        "\n",
        "**Which variables best predict future user adoption?**\n",
        "\n",
        "Adoption:  >= 3 login days within a 7 day period.\n"
      ]
    },
    {
      "cell_type": "markdown",
      "metadata": {
        "id": "nqbQky6jJQIH"
      },
      "source": [
        "---\n",
        "##**Approach** \n",
        "1. Simplify DataFrame to features that may have an impact\n",
        "2. Create a binary Adoption feature: 1 = adopted_user 0 = not adopted_user\n",
        "3. Identify the Feature Importance related to adopted users using regression.\n",
        "---"
      ]
    },
    {
      "cell_type": "markdown",
      "metadata": {
        "id": "bat1J9prLHib"
      },
      "source": [
        "###**IMPORT PACKAGES**"
      ]
    },
    {
      "cell_type": "code",
      "metadata": {
        "id": "BOjZCVUDLQh0"
      },
      "source": [
        "# import packages/ libraries\n",
        "import pandas as pd\n",
        "import numpy as np\n",
        "import matplotlib.pyplot as plt\n",
        "from datetime import timedelta "
      ],
      "execution_count": 40,
      "outputs": []
    },
    {
      "cell_type": "markdown",
      "metadata": {
        "id": "LOqlTgWqLgj7"
      },
      "source": [
        "###**LOAD DATA**"
      ]
    },
    {
      "cell_type": "code",
      "metadata": {
        "id": "EMHwDou_LlqG"
      },
      "source": [
        "# import data\n",
        "path1 = 'https://raw.githubusercontent.com/premonish/relax_inc/main/data/takehome_user_engagement.csv'\n",
        "path2 = 'https://raw.githubusercontent.com/premonish/relax_inc/main/data/takehome_users.csv'\n",
        "engagement = pd.read_csv(path1)\n",
        "users = pd.read_csv(path2, encoding='latin-1') # needed to use 'latin-1' encoding"
      ],
      "execution_count": 41,
      "outputs": []
    },
    {
      "cell_type": "code",
      "metadata": {
        "colab": {
          "base_uri": "https://localhost:8080/",
          "height": 136
        },
        "id": "dAo0_Tz-MIMm",
        "outputId": "89ab2d13-b482-4c7c-93bd-169eb450840e"
      },
      "source": [
        "engagement.head(3)"
      ],
      "execution_count": 42,
      "outputs": [
        {
          "output_type": "execute_result",
          "data": {
            "text/html": [
              "<div>\n",
              "<style scoped>\n",
              "    .dataframe tbody tr th:only-of-type {\n",
              "        vertical-align: middle;\n",
              "    }\n",
              "\n",
              "    .dataframe tbody tr th {\n",
              "        vertical-align: top;\n",
              "    }\n",
              "\n",
              "    .dataframe thead th {\n",
              "        text-align: right;\n",
              "    }\n",
              "</style>\n",
              "<table border=\"1\" class=\"dataframe\">\n",
              "  <thead>\n",
              "    <tr style=\"text-align: right;\">\n",
              "      <th></th>\n",
              "      <th>time_stamp</th>\n",
              "      <th>user_id</th>\n",
              "      <th>visited</th>\n",
              "    </tr>\n",
              "  </thead>\n",
              "  <tbody>\n",
              "    <tr>\n",
              "      <th>0</th>\n",
              "      <td>2014-04-22 03:53:30</td>\n",
              "      <td>1</td>\n",
              "      <td>1</td>\n",
              "    </tr>\n",
              "    <tr>\n",
              "      <th>1</th>\n",
              "      <td>2013-11-15 03:45:04</td>\n",
              "      <td>2</td>\n",
              "      <td>1</td>\n",
              "    </tr>\n",
              "    <tr>\n",
              "      <th>2</th>\n",
              "      <td>2013-11-29 03:45:04</td>\n",
              "      <td>2</td>\n",
              "      <td>1</td>\n",
              "    </tr>\n",
              "  </tbody>\n",
              "</table>\n",
              "</div>"
            ],
            "text/plain": [
              "            time_stamp  user_id  visited\n",
              "0  2014-04-22 03:53:30        1        1\n",
              "1  2013-11-15 03:45:04        2        1\n",
              "2  2013-11-29 03:45:04        2        1"
            ]
          },
          "metadata": {
            "tags": []
          },
          "execution_count": 42
        }
      ]
    },
    {
      "cell_type": "code",
      "metadata": {
        "colab": {
          "base_uri": "https://localhost:8080/",
          "height": 206
        },
        "id": "9fgk_S1-MNZr",
        "outputId": "efaf7682-4d46-4753-f7a7-3dbfbb7be61c"
      },
      "source": [
        "users.head(3)"
      ],
      "execution_count": 43,
      "outputs": [
        {
          "output_type": "execute_result",
          "data": {
            "text/html": [
              "<div>\n",
              "<style scoped>\n",
              "    .dataframe tbody tr th:only-of-type {\n",
              "        vertical-align: middle;\n",
              "    }\n",
              "\n",
              "    .dataframe tbody tr th {\n",
              "        vertical-align: top;\n",
              "    }\n",
              "\n",
              "    .dataframe thead th {\n",
              "        text-align: right;\n",
              "    }\n",
              "</style>\n",
              "<table border=\"1\" class=\"dataframe\">\n",
              "  <thead>\n",
              "    <tr style=\"text-align: right;\">\n",
              "      <th></th>\n",
              "      <th>object_id</th>\n",
              "      <th>creation_time</th>\n",
              "      <th>name</th>\n",
              "      <th>email</th>\n",
              "      <th>creation_source</th>\n",
              "      <th>last_session_creation_time</th>\n",
              "      <th>opted_in_to_mailing_list</th>\n",
              "      <th>enabled_for_marketing_drip</th>\n",
              "      <th>org_id</th>\n",
              "      <th>invited_by_user_id</th>\n",
              "    </tr>\n",
              "  </thead>\n",
              "  <tbody>\n",
              "    <tr>\n",
              "      <th>0</th>\n",
              "      <td>1</td>\n",
              "      <td>2014-04-22 03:53:30</td>\n",
              "      <td>Clausen August</td>\n",
              "      <td>AugustCClausen@yahoo.com</td>\n",
              "      <td>GUEST_INVITE</td>\n",
              "      <td>1.398139e+09</td>\n",
              "      <td>1</td>\n",
              "      <td>0</td>\n",
              "      <td>11</td>\n",
              "      <td>10803.0</td>\n",
              "    </tr>\n",
              "    <tr>\n",
              "      <th>1</th>\n",
              "      <td>2</td>\n",
              "      <td>2013-11-15 03:45:04</td>\n",
              "      <td>Poole Matthew</td>\n",
              "      <td>MatthewPoole@gustr.com</td>\n",
              "      <td>ORG_INVITE</td>\n",
              "      <td>1.396238e+09</td>\n",
              "      <td>0</td>\n",
              "      <td>0</td>\n",
              "      <td>1</td>\n",
              "      <td>316.0</td>\n",
              "    </tr>\n",
              "    <tr>\n",
              "      <th>2</th>\n",
              "      <td>3</td>\n",
              "      <td>2013-03-19 23:14:52</td>\n",
              "      <td>Bottrill Mitchell</td>\n",
              "      <td>MitchellBottrill@gustr.com</td>\n",
              "      <td>ORG_INVITE</td>\n",
              "      <td>1.363735e+09</td>\n",
              "      <td>0</td>\n",
              "      <td>0</td>\n",
              "      <td>94</td>\n",
              "      <td>1525.0</td>\n",
              "    </tr>\n",
              "  </tbody>\n",
              "</table>\n",
              "</div>"
            ],
            "text/plain": [
              "   object_id        creation_time  ... org_id invited_by_user_id\n",
              "0          1  2014-04-22 03:53:30  ...     11            10803.0\n",
              "1          2  2013-11-15 03:45:04  ...      1              316.0\n",
              "2          3  2013-03-19 23:14:52  ...     94             1525.0\n",
              "\n",
              "[3 rows x 10 columns]"
            ]
          },
          "metadata": {
            "tags": []
          },
          "execution_count": 43
        }
      ]
    },
    {
      "cell_type": "markdown",
      "metadata": {
        "id": "EO4BQ5ROMqYJ"
      },
      "source": [
        "###**CLEAN DATA**\n",
        "We know from the Metadata that the object_id = user's id. Let's change the name in the user dataframe to match the engagement dataframe."
      ]
    },
    {
      "cell_type": "code",
      "metadata": {
        "colab": {
          "base_uri": "https://localhost:8080/"
        },
        "id": "Ok_3bXmXMlaW",
        "outputId": "0e6269d6-505c-4635-efd9-38711adc8c6d"
      },
      "source": [
        "users.rename(columns={\"object_id\": \"user_id\"}, inplace=True)\n",
        "users.info()"
      ],
      "execution_count": 44,
      "outputs": [
        {
          "output_type": "stream",
          "text": [
            "<class 'pandas.core.frame.DataFrame'>\n",
            "RangeIndex: 12000 entries, 0 to 11999\n",
            "Data columns (total 10 columns):\n",
            " #   Column                      Non-Null Count  Dtype  \n",
            "---  ------                      --------------  -----  \n",
            " 0   user_id                     12000 non-null  int64  \n",
            " 1   creation_time               12000 non-null  object \n",
            " 2   name                        12000 non-null  object \n",
            " 3   email                       12000 non-null  object \n",
            " 4   creation_source             12000 non-null  object \n",
            " 5   last_session_creation_time  8823 non-null   float64\n",
            " 6   opted_in_to_mailing_list    12000 non-null  int64  \n",
            " 7   enabled_for_marketing_drip  12000 non-null  int64  \n",
            " 8   org_id                      12000 non-null  int64  \n",
            " 9   invited_by_user_id          6417 non-null   float64\n",
            "dtypes: float64(2), int64(4), object(4)\n",
            "memory usage: 937.6+ KB\n"
          ],
          "name": "stdout"
        }
      ]
    },
    {
      "cell_type": "markdown",
      "metadata": {
        "id": "rEAbdEe9P8ky"
      },
      "source": [
        "**NOTE:** last_session_creation_time and invited_by_user_id columns contain null values. \n",
        "\n",
        "last_session_creation_time having a null value could mean that the user never logged in after their initial sign-up. If this is the case, they would not be an adopted user by definition (3 or more logins in a 7-day period). We will investigate this further.\n",
        "\n",
        "invited_by_user_id's null values most likely represent a user that simply created an account without an explicit referral.  \n"
      ]
    },
    {
      "cell_type": "markdown",
      "metadata": {
        "id": "7P7ujgslJ-6p"
      },
      "source": [
        "\n",
        "\n",
        "---\n",
        "\n",
        "\n",
        "## **1. Simplify Dataframe to features that may have an impact.**\n",
        "---"
      ]
    },
    {
      "cell_type": "code",
      "metadata": {
        "colab": {
          "base_uri": "https://localhost:8080/",
          "height": 130
        },
        "id": "QTz4gPluOvMe",
        "outputId": "a747e375-f0c7-4557-d9bb-68ea638daf6f"
      },
      "source": [
        "print(users.shape)\n",
        "users.head(1)"
      ],
      "execution_count": 6,
      "outputs": [
        {
          "output_type": "stream",
          "text": [
            "(12000, 10)\n"
          ],
          "name": "stdout"
        },
        {
          "output_type": "execute_result",
          "data": {
            "text/html": [
              "<div>\n",
              "<style scoped>\n",
              "    .dataframe tbody tr th:only-of-type {\n",
              "        vertical-align: middle;\n",
              "    }\n",
              "\n",
              "    .dataframe tbody tr th {\n",
              "        vertical-align: top;\n",
              "    }\n",
              "\n",
              "    .dataframe thead th {\n",
              "        text-align: right;\n",
              "    }\n",
              "</style>\n",
              "<table border=\"1\" class=\"dataframe\">\n",
              "  <thead>\n",
              "    <tr style=\"text-align: right;\">\n",
              "      <th></th>\n",
              "      <th>user_id</th>\n",
              "      <th>creation_time</th>\n",
              "      <th>name</th>\n",
              "      <th>email</th>\n",
              "      <th>creation_source</th>\n",
              "      <th>last_session_creation_time</th>\n",
              "      <th>opted_in_to_mailing_list</th>\n",
              "      <th>enabled_for_marketing_drip</th>\n",
              "      <th>org_id</th>\n",
              "      <th>invited_by_user_id</th>\n",
              "    </tr>\n",
              "  </thead>\n",
              "  <tbody>\n",
              "    <tr>\n",
              "      <th>0</th>\n",
              "      <td>1</td>\n",
              "      <td>2014-04-22 03:53:30</td>\n",
              "      <td>Clausen August</td>\n",
              "      <td>AugustCClausen@yahoo.com</td>\n",
              "      <td>GUEST_INVITE</td>\n",
              "      <td>1.398139e+09</td>\n",
              "      <td>1</td>\n",
              "      <td>0</td>\n",
              "      <td>11</td>\n",
              "      <td>10803.0</td>\n",
              "    </tr>\n",
              "  </tbody>\n",
              "</table>\n",
              "</div>"
            ],
            "text/plain": [
              "   user_id        creation_time  ... org_id invited_by_user_id\n",
              "0        1  2014-04-22 03:53:30  ...     11            10803.0\n",
              "\n",
              "[1 rows x 10 columns]"
            ]
          },
          "metadata": {
            "tags": []
          },
          "execution_count": 6
        }
      ]
    },
    {
      "cell_type": "markdown",
      "metadata": {
        "id": "Gx_ac4XhPAbI"
      },
      "source": [
        "We can drop the columns: name, email, "
      ]
    },
    {
      "cell_type": "code",
      "metadata": {
        "colab": {
          "base_uri": "https://localhost:8080/",
          "height": 94
        },
        "id": "VXd1Wp-COzhN",
        "outputId": "f85d088d-8595-40a6-ad93-0f967ee9bb90"
      },
      "source": [
        "users.drop(['name','email'], axis=1,inplace=True)\n",
        "print(users.shape)\n",
        "users.head(1)"
      ],
      "execution_count": 7,
      "outputs": [
        {
          "output_type": "stream",
          "text": [
            "(12000, 8)\n"
          ],
          "name": "stdout"
        },
        {
          "output_type": "execute_result",
          "data": {
            "text/html": [
              "<div>\n",
              "<style scoped>\n",
              "    .dataframe tbody tr th:only-of-type {\n",
              "        vertical-align: middle;\n",
              "    }\n",
              "\n",
              "    .dataframe tbody tr th {\n",
              "        vertical-align: top;\n",
              "    }\n",
              "\n",
              "    .dataframe thead th {\n",
              "        text-align: right;\n",
              "    }\n",
              "</style>\n",
              "<table border=\"1\" class=\"dataframe\">\n",
              "  <thead>\n",
              "    <tr style=\"text-align: right;\">\n",
              "      <th></th>\n",
              "      <th>user_id</th>\n",
              "      <th>creation_time</th>\n",
              "      <th>creation_source</th>\n",
              "      <th>last_session_creation_time</th>\n",
              "      <th>opted_in_to_mailing_list</th>\n",
              "      <th>enabled_for_marketing_drip</th>\n",
              "      <th>org_id</th>\n",
              "      <th>invited_by_user_id</th>\n",
              "    </tr>\n",
              "  </thead>\n",
              "  <tbody>\n",
              "    <tr>\n",
              "      <th>0</th>\n",
              "      <td>1</td>\n",
              "      <td>2014-04-22 03:53:30</td>\n",
              "      <td>GUEST_INVITE</td>\n",
              "      <td>1.398139e+09</td>\n",
              "      <td>1</td>\n",
              "      <td>0</td>\n",
              "      <td>11</td>\n",
              "      <td>10803.0</td>\n",
              "    </tr>\n",
              "  </tbody>\n",
              "</table>\n",
              "</div>"
            ],
            "text/plain": [
              "   user_id        creation_time  ... org_id  invited_by_user_id\n",
              "0        1  2014-04-22 03:53:30  ...     11             10803.0\n",
              "\n",
              "[1 rows x 8 columns]"
            ]
          },
          "metadata": {
            "tags": []
          },
          "execution_count": 7
        }
      ]
    },
    {
      "cell_type": "code",
      "metadata": {
        "colab": {
          "base_uri": "https://localhost:8080/"
        },
        "id": "aiF42dvZRuyd",
        "outputId": "854b4a0e-7aff-4bf4-8ae8-5818124bb510"
      },
      "source": [
        "users.invited_by_user_id.value_counts()"
      ],
      "execution_count": 8,
      "outputs": [
        {
          "output_type": "execute_result",
          "data": {
            "text/plain": [
              "10741.0    13\n",
              "2527.0     12\n",
              "2308.0     11\n",
              "1525.0     11\n",
              "11770.0    11\n",
              "           ..\n",
              "2746.0      1\n",
              "10456.0     1\n",
              "8371.0      1\n",
              "6266.0      1\n",
              "3572.0      1\n",
              "Name: invited_by_user_id, Length: 2564, dtype: int64"
            ]
          },
          "metadata": {
            "tags": []
          },
          "execution_count": 8
        }
      ]
    },
    {
      "cell_type": "markdown",
      "metadata": {
        "id": "EYNgBa8cS4FG"
      },
      "source": [
        "There are 2564 unique 'invited_by_user_id' values. The maximum # of invites is 13 by user_id 10741. We can investigate if this will help predict adopted users."
      ]
    },
    {
      "cell_type": "code",
      "metadata": {
        "colab": {
          "base_uri": "https://localhost:8080/"
        },
        "id": "NdAEb5uvSMdk",
        "outputId": "8251f3ab-463d-4643-d7ed-dd7b174cb994"
      },
      "source": [
        "users.org_id.value_counts()"
      ],
      "execution_count": 9,
      "outputs": [
        {
          "output_type": "execute_result",
          "data": {
            "text/plain": [
              "0      319\n",
              "1      233\n",
              "2      201\n",
              "3      168\n",
              "4      159\n",
              "      ... \n",
              "396      9\n",
              "400      8\n",
              "397      8\n",
              "386      7\n",
              "416      2\n",
              "Name: org_id, Length: 417, dtype: int64"
            ]
          },
          "metadata": {
            "tags": []
          },
          "execution_count": 9
        }
      ]
    },
    {
      "cell_type": "markdown",
      "metadata": {
        "id": "XiYfUg0cTkIu"
      },
      "source": [
        "There are 417 unique 'org_id' values. The maximum # of values is 319 by org_id '0'. '0' likely represents a null value since there are zero null values in the column. org_id '1' has 233 counts. We can also investigate if the org_id correlates with adopted users."
      ]
    },
    {
      "cell_type": "markdown",
      "metadata": {
        "id": "YZyZoEUGVHZ6"
      },
      "source": [
        "###**TRANSFORM DATA**"
      ]
    },
    {
      "cell_type": "code",
      "metadata": {
        "id": "T_aVl5QtVLA5"
      },
      "source": [
        "# convert time_stamp to datetime format\n",
        "engagement.time_stamp = pd.to_datetime(engagement.time_stamp)"
      ],
      "execution_count": 10,
      "outputs": []
    },
    {
      "cell_type": "code",
      "metadata": {
        "id": "ReCOaRlpVXMJ"
      },
      "source": [
        "# convert time_stamp to datetime format\n",
        "users.creation_time = pd.to_datetime(users.creation_time, format='%Y-%m-%d %H:%M:%S')\n",
        "users.last_session_creation_time = pd.to_datetime(users.last_session_creation_time, unit='s')"
      ],
      "execution_count": 11,
      "outputs": []
    },
    {
      "cell_type": "code",
      "metadata": {
        "colab": {
          "base_uri": "https://localhost:8080/"
        },
        "id": "ewjuXpgWW_rJ",
        "outputId": "4dbe422a-85b9-4348-a5ed-15bdf5615dc5"
      },
      "source": [
        "# new feature:  compute user acct_age in days\n",
        "users['acct_age'] = users.last_session_creation_time - users.creation_time\n",
        "users['acct_age'] = users.acct_age.dt.days"
      ],
      "execution_count": 12,
      "outputs": [
        {
          "output_type": "execute_result",
          "data": {
            "text/plain": [
              "3177"
            ]
          },
          "metadata": {
            "tags": []
          },
          "execution_count": 12
        }
      ]
    },
    {
      "cell_type": "markdown",
      "metadata": {
        "id": "mgzH2EiSKK2j"
      },
      "source": [
        "---\n",
        "##**2. Create a binary 'adopted_user' feature.** \n",
        "[adopted_user : 1 ,    non-adopted_user : 0]\n",
        "---"
      ]
    },
    {
      "cell_type": "code",
      "metadata": {
        "colab": {
          "base_uri": "https://localhost:8080/"
        },
        "id": "qlqkuTapZ3c1",
        "outputId": "210fb454-6257-4f59-d5a6-00d6363b6f12"
      },
      "source": [
        "# convert time_stamp to datetime format\n",
        "engagement['time_stamp'] = pd.to_datetime(engagement['time_stamp'])\n",
        "engagement.info()"
      ],
      "execution_count": 17,
      "outputs": [
        {
          "output_type": "stream",
          "text": [
            "<class 'pandas.core.frame.DataFrame'>\n",
            "RangeIndex: 207917 entries, 0 to 207916\n",
            "Data columns (total 3 columns):\n",
            " #   Column      Non-Null Count   Dtype         \n",
            "---  ------      --------------   -----         \n",
            " 0   time_stamp  207917 non-null  datetime64[ns]\n",
            " 1   user_id     207917 non-null  int64         \n",
            " 2   visited     207917 non-null  int64         \n",
            "dtypes: datetime64[ns](1), int64(2)\n",
            "memory usage: 4.8 MB\n"
          ],
          "name": "stdout"
        }
      ]
    },
    {
      "cell_type": "code",
      "metadata": {
        "id": "0OyfX6JIZRSK"
      },
      "source": [
        "# \"Defining an \"adopted user\" as a user who has logged into the product on three separate days in at least one seven-day period\"\n",
        "\n",
        "def adopted_user(df):\n",
        "    df['date'] = df['time_stamp'].dt.date      # convert time_stamp to datetime format\n",
        "    df = df.sort_values('date')                # sort by date\n",
        "    interval = df['date'].diff(periods=2)      # calculate interval between each 3 logins\n",
        "    return any(interval <= timedelta(days=7))  # return any if interval is less than or equal to 7 days"
      ],
      "execution_count": 18,
      "outputs": []
    },
    {
      "cell_type": "code",
      "metadata": {
        "id": "UZfCDNY4ZWOk"
      },
      "source": [
        "# run the 'adopted_user' function on all users in engagement DataFrame\n",
        "adopted = engagement.groupby('user_id').apply(adopted_user)\n",
        "adopted.name = 'adopted_user'"
      ],
      "execution_count": 19,
      "outputs": []
    },
    {
      "cell_type": "code",
      "metadata": {
        "colab": {
          "base_uri": "https://localhost:8080/"
        },
        "id": "G7AKuN0UZWRU",
        "outputId": "65e80046-eda9-4d99-e128-54cc3721be87"
      },
      "source": [
        "print(\"Adopted Users: \",adopted.sum())\n",
        "print(\"  Total Users: \",len(adopted))\n",
        "print(\"---------------------\")\n",
        "print(\"      Adopted: \"+str(round(adopted.sum()/len(adopted)*100,2))+\"%\")"
      ],
      "execution_count": 20,
      "outputs": [
        {
          "output_type": "stream",
          "text": [
            "Adopted Users:  1656\n",
            "  Total Users:  8823\n",
            "---------------------\n",
            "      Adopted: 18.77%\n"
          ],
          "name": "stdout"
        }
      ]
    },
    {
      "cell_type": "code",
      "metadata": {
        "id": "MbzOrahTZWT2"
      },
      "source": [
        "# Join the adopted users to the user engagement dataframe\n",
        "users = users.set_index('user_id')\n",
        "df = pd.concat([users, adopted], axis=1, join='inner')"
      ],
      "execution_count": 21,
      "outputs": []
    },
    {
      "cell_type": "code",
      "metadata": {
        "id": "_ADlB9WRbEGF"
      },
      "source": [
        "# change \"True/False\" to int [0,1]\n",
        "df.adopted_user = df.adopted_user.replace({False:0, True:1})"
      ],
      "execution_count": 22,
      "outputs": []
    },
    {
      "cell_type": "code",
      "metadata": {
        "colab": {
          "base_uri": "https://localhost:8080/",
          "height": 225
        },
        "id": "1HRwr70ja1tg",
        "outputId": "52278a17-bac6-4bab-e7c1-fcd38aec67ff"
      },
      "source": [
        "df.head()"
      ],
      "execution_count": 23,
      "outputs": [
        {
          "output_type": "execute_result",
          "data": {
            "text/html": [
              "<div>\n",
              "<style scoped>\n",
              "    .dataframe tbody tr th:only-of-type {\n",
              "        vertical-align: middle;\n",
              "    }\n",
              "\n",
              "    .dataframe tbody tr th {\n",
              "        vertical-align: top;\n",
              "    }\n",
              "\n",
              "    .dataframe thead th {\n",
              "        text-align: right;\n",
              "    }\n",
              "</style>\n",
              "<table border=\"1\" class=\"dataframe\">\n",
              "  <thead>\n",
              "    <tr style=\"text-align: right;\">\n",
              "      <th></th>\n",
              "      <th>creation_time</th>\n",
              "      <th>creation_source</th>\n",
              "      <th>last_session_creation_time</th>\n",
              "      <th>opted_in_to_mailing_list</th>\n",
              "      <th>enabled_for_marketing_drip</th>\n",
              "      <th>org_id</th>\n",
              "      <th>invited_by_user_id</th>\n",
              "      <th>acct_age</th>\n",
              "      <th>adopted_user</th>\n",
              "    </tr>\n",
              "    <tr>\n",
              "      <th>user_id</th>\n",
              "      <th></th>\n",
              "      <th></th>\n",
              "      <th></th>\n",
              "      <th></th>\n",
              "      <th></th>\n",
              "      <th></th>\n",
              "      <th></th>\n",
              "      <th></th>\n",
              "      <th></th>\n",
              "    </tr>\n",
              "  </thead>\n",
              "  <tbody>\n",
              "    <tr>\n",
              "      <th>1</th>\n",
              "      <td>2014-04-22 03:53:30</td>\n",
              "      <td>GUEST_INVITE</td>\n",
              "      <td>2014-04-22 03:53:30</td>\n",
              "      <td>1</td>\n",
              "      <td>0</td>\n",
              "      <td>11</td>\n",
              "      <td>10803.0</td>\n",
              "      <td>0.0</td>\n",
              "      <td>0</td>\n",
              "    </tr>\n",
              "    <tr>\n",
              "      <th>2</th>\n",
              "      <td>2013-11-15 03:45:04</td>\n",
              "      <td>ORG_INVITE</td>\n",
              "      <td>2014-03-31 03:45:04</td>\n",
              "      <td>0</td>\n",
              "      <td>0</td>\n",
              "      <td>1</td>\n",
              "      <td>316.0</td>\n",
              "      <td>136.0</td>\n",
              "      <td>1</td>\n",
              "    </tr>\n",
              "    <tr>\n",
              "      <th>3</th>\n",
              "      <td>2013-03-19 23:14:52</td>\n",
              "      <td>ORG_INVITE</td>\n",
              "      <td>2013-03-19 23:14:52</td>\n",
              "      <td>0</td>\n",
              "      <td>0</td>\n",
              "      <td>94</td>\n",
              "      <td>1525.0</td>\n",
              "      <td>0.0</td>\n",
              "      <td>0</td>\n",
              "    </tr>\n",
              "    <tr>\n",
              "      <th>4</th>\n",
              "      <td>2013-05-21 08:09:28</td>\n",
              "      <td>GUEST_INVITE</td>\n",
              "      <td>2013-05-22 08:09:28</td>\n",
              "      <td>0</td>\n",
              "      <td>0</td>\n",
              "      <td>1</td>\n",
              "      <td>5151.0</td>\n",
              "      <td>1.0</td>\n",
              "      <td>0</td>\n",
              "    </tr>\n",
              "    <tr>\n",
              "      <th>5</th>\n",
              "      <td>2013-01-17 10:14:20</td>\n",
              "      <td>GUEST_INVITE</td>\n",
              "      <td>2013-01-22 10:14:20</td>\n",
              "      <td>0</td>\n",
              "      <td>0</td>\n",
              "      <td>193</td>\n",
              "      <td>5240.0</td>\n",
              "      <td>5.0</td>\n",
              "      <td>0</td>\n",
              "    </tr>\n",
              "  </tbody>\n",
              "</table>\n",
              "</div>"
            ],
            "text/plain": [
              "              creation_time creation_source  ... acct_age  adopted_user\n",
              "user_id                                      ...                       \n",
              "1       2014-04-22 03:53:30    GUEST_INVITE  ...      0.0             0\n",
              "2       2013-11-15 03:45:04      ORG_INVITE  ...    136.0             1\n",
              "3       2013-03-19 23:14:52      ORG_INVITE  ...      0.0             0\n",
              "4       2013-05-21 08:09:28    GUEST_INVITE  ...      1.0             0\n",
              "5       2013-01-17 10:14:20    GUEST_INVITE  ...      5.0             0\n",
              "\n",
              "[5 rows x 9 columns]"
            ]
          },
          "metadata": {
            "tags": []
          },
          "execution_count": 23
        }
      ]
    },
    {
      "cell_type": "code",
      "metadata": {
        "colab": {
          "base_uri": "https://localhost:8080/"
        },
        "id": "bfvlRexQpGda",
        "outputId": "8e239b9d-a228-4ef0-b9bf-53d33fea3853"
      },
      "source": [
        "df.dropna(subset=['acct_age'],inplace=True)\n",
        "print(df.acct_age.isna().sum())"
      ],
      "execution_count": 24,
      "outputs": [
        {
          "output_type": "stream",
          "text": [
            "0\n"
          ],
          "name": "stdout"
        }
      ]
    },
    {
      "cell_type": "code",
      "metadata": {
        "colab": {
          "base_uri": "https://localhost:8080/",
          "height": 225
        },
        "id": "B4FJQmUbfBy1",
        "outputId": "7d16b84c-c420-497e-bb46-f5062165c6e9"
      },
      "source": [
        "# create a simplified matrix (numeric only) for machine learning \n",
        "y = df.adopted_user\n",
        "X = df.drop(['creation_time','last_session_creation_time','org_id','invited_by_user_id','adopted_user'], axis=1)\n",
        "X.head()"
      ],
      "execution_count": 25,
      "outputs": [
        {
          "output_type": "execute_result",
          "data": {
            "text/html": [
              "<div>\n",
              "<style scoped>\n",
              "    .dataframe tbody tr th:only-of-type {\n",
              "        vertical-align: middle;\n",
              "    }\n",
              "\n",
              "    .dataframe tbody tr th {\n",
              "        vertical-align: top;\n",
              "    }\n",
              "\n",
              "    .dataframe thead th {\n",
              "        text-align: right;\n",
              "    }\n",
              "</style>\n",
              "<table border=\"1\" class=\"dataframe\">\n",
              "  <thead>\n",
              "    <tr style=\"text-align: right;\">\n",
              "      <th></th>\n",
              "      <th>creation_source</th>\n",
              "      <th>opted_in_to_mailing_list</th>\n",
              "      <th>enabled_for_marketing_drip</th>\n",
              "      <th>acct_age</th>\n",
              "    </tr>\n",
              "    <tr>\n",
              "      <th>user_id</th>\n",
              "      <th></th>\n",
              "      <th></th>\n",
              "      <th></th>\n",
              "      <th></th>\n",
              "    </tr>\n",
              "  </thead>\n",
              "  <tbody>\n",
              "    <tr>\n",
              "      <th>1</th>\n",
              "      <td>GUEST_INVITE</td>\n",
              "      <td>1</td>\n",
              "      <td>0</td>\n",
              "      <td>0.0</td>\n",
              "    </tr>\n",
              "    <tr>\n",
              "      <th>2</th>\n",
              "      <td>ORG_INVITE</td>\n",
              "      <td>0</td>\n",
              "      <td>0</td>\n",
              "      <td>136.0</td>\n",
              "    </tr>\n",
              "    <tr>\n",
              "      <th>3</th>\n",
              "      <td>ORG_INVITE</td>\n",
              "      <td>0</td>\n",
              "      <td>0</td>\n",
              "      <td>0.0</td>\n",
              "    </tr>\n",
              "    <tr>\n",
              "      <th>4</th>\n",
              "      <td>GUEST_INVITE</td>\n",
              "      <td>0</td>\n",
              "      <td>0</td>\n",
              "      <td>1.0</td>\n",
              "    </tr>\n",
              "    <tr>\n",
              "      <th>5</th>\n",
              "      <td>GUEST_INVITE</td>\n",
              "      <td>0</td>\n",
              "      <td>0</td>\n",
              "      <td>5.0</td>\n",
              "    </tr>\n",
              "  </tbody>\n",
              "</table>\n",
              "</div>"
            ],
            "text/plain": [
              "        creation_source  ...  acct_age\n",
              "user_id                  ...          \n",
              "1          GUEST_INVITE  ...       0.0\n",
              "2            ORG_INVITE  ...     136.0\n",
              "3            ORG_INVITE  ...       0.0\n",
              "4          GUEST_INVITE  ...       1.0\n",
              "5          GUEST_INVITE  ...       5.0\n",
              "\n",
              "[5 rows x 4 columns]"
            ]
          },
          "metadata": {
            "tags": []
          },
          "execution_count": 25
        }
      ]
    },
    {
      "cell_type": "code",
      "metadata": {
        "colab": {
          "base_uri": "https://localhost:8080/"
        },
        "id": "yZkLO4YPgeaz",
        "outputId": "4e13fa51-ca21-4697-f0ef-eaa58a1fa74b"
      },
      "source": [
        "print(X.opted_in_to_mailing_list.sum())\n",
        "print(X.enabled_for_marketing_drip.sum())"
      ],
      "execution_count": 26,
      "outputs": [
        {
          "output_type": "stream",
          "text": [
            "2226\n",
            "1341\n"
          ],
          "name": "stdout"
        }
      ]
    },
    {
      "cell_type": "markdown",
      "metadata": {
        "id": "prW0CGuRKNf0"
      },
      "source": [
        "---\n",
        "## **3. Identify the Feature Importance related to adopted users using regression.**\n",
        "---"
      ]
    },
    {
      "cell_type": "code",
      "metadata": {
        "id": "VwhZvLOd74tM"
      },
      "source": [
        "# FUNCTION: ONE-HOT Encode and Transform for regression\n",
        "from sklearn.preprocessing import OneHotEncoder\n",
        "\n",
        "def encode_transform(feature, categories='auto'):  \n",
        "  enc = OneHotEncoder(handle_unknown='ignore', categories=categories)\n",
        "  X1 = np.array(feature)\n",
        "  X1 = X1.reshape(-1,1)\n",
        "  X1 = enc.fit_transform(X1)\n",
        "  return X1"
      ],
      "execution_count": 29,
      "outputs": []
    },
    {
      "cell_type": "code",
      "metadata": {
        "id": "2N02re6Y8UIm"
      },
      "source": [
        "# FUNCTION: Plot Feature Importance (logistic regression)\n",
        "from sklearn.datasets import make_regression\n",
        "from sklearn.linear_model import LogisticRegression\n",
        "import seaborn as sns\n",
        "\n",
        "def model_plot(X1):\n",
        "  model = LogisticRegression()              #instantiate model\n",
        "  model.fit(X1, y)                          #train model\n",
        "  importance = model.coef_[0]               # get importance\n",
        "  for i,v in enumerate(importance):         # summarize feature importance\n",
        "    print('Feature: %0d, Score: %.5f' % (i,v))   # plot feature importance\n",
        "  plt.bar([x for x in range(len(importance))], importance)\n",
        "  plt.show()"
      ],
      "execution_count": 30,
      "outputs": []
    },
    {
      "cell_type": "code",
      "metadata": {
        "colab": {
          "base_uri": "https://localhost:8080/",
          "height": 440
        },
        "id": "NsDAbwCHhhzA",
        "outputId": "68057840-8e98-423f-9fde-d3133b83e63e"
      },
      "source": [
        "cat_creation_source = ['GUEST_INVITE','PERSONAL_PROJECTS' ,'ORG_INVITE', 'SIGNUP_GOOGLE_AUTH', 'SIGNUP']\n",
        "X1 = encode_transform(X.creation_source, [cat_creation_source])\n",
        "plt.title('creation_source')\n",
        "plt.xticks([0,1,2,3,4], labels=cat_creation_source, rotation=40, ha=\"right\")\n",
        "creation_source_plot = model_plot(X1)"
      ],
      "execution_count": 31,
      "outputs": [
        {
          "output_type": "stream",
          "text": [
            "Feature: 0, Score: 0.24026\n",
            "Feature: 1, Score: 0.19852\n",
            "Feature: 2, Score: -0.07976\n",
            "Feature: 3, Score: -0.13074\n",
            "Feature: 4, Score: -0.22789\n"
          ],
          "name": "stdout"
        },
        {
          "output_type": "display_data",
          "data": {
            "image/png": "[encoded data removed]",
            "text/plain": [
              "<Figure size 432x288 with 1 Axes>"
            ]
          },
          "metadata": {
            "tags": [],
            "needs_background": "light"
          }
        }
      ]
    },
    {
      "cell_type": "markdown",
      "metadata": {
        "id": "6frkoEHDNA-B"
      },
      "source": [
        "We can see the importance of the 'creation_sources' in terms of correlation to an adopted user. The strongest positive correlation is 0.240, for 'GUEST_INVITE'. The strongest negative correlation useful to see where non-adopted users are likely to come from is 'SIGNUP'. Stated another way, we are least likely to earn adopted users from 'SIGN_UP'. We are most likely to earn adopted users from guest invites.\n"
      ]
    },
    {
      "cell_type": "markdown",
      "metadata": {
        "id": "WrUudXmHTy92"
      },
      "source": [
        "**Let's check the other features.**"
      ]
    },
    {
      "cell_type": "code",
      "metadata": {
        "colab": {
          "base_uri": "https://localhost:8080/",
          "height": 314
        },
        "id": "06daLeQYTRTD",
        "outputId": "98f96d7a-1974-4b9f-fedc-1438563a5451"
      },
      "source": [
        "X1 = encode_transform(X.opted_in_to_mailing_list)\n",
        "plt.title('opted_in_to_mailing_list')\n",
        "model_plot(X1)"
      ],
      "execution_count": 32,
      "outputs": [
        {
          "output_type": "stream",
          "text": [
            "Feature: 0, Score: -0.02185\n",
            "Feature: 1, Score: 0.02191\n"
          ],
          "name": "stdout"
        },
        {
          "output_type": "display_data",
          "data": {
            "image/png": "[encoded data removed]",
            "text/plain": [
              "<Figure size 432x288 with 1 Axes>"
            ]
          },
          "metadata": {
            "tags": [],
            "needs_background": "light"
          }
        }
      ]
    },
    {
      "cell_type": "markdown",
      "metadata": {
        "id": "Y_mHHBaHcMbm"
      },
      "source": [
        "'opted_in_to_mailing_list' shows a negligable difference between adopted users. This is a weak indicator and not very useful for prediction of user adoption."
      ]
    },
    {
      "cell_type": "code",
      "metadata": {
        "colab": {
          "base_uri": "https://localhost:8080/",
          "height": 314
        },
        "id": "mccORO1bm9kF",
        "outputId": "eaa5a985-d5a8-4d0c-821b-70e2fe405c43"
      },
      "source": [
        "X1 = encode_transform(X.enabled_for_marketing_drip)\t\n",
        "plt.title('enabled_for_marketing_drip')\n",
        "model_plot(X1)"
      ],
      "execution_count": 33,
      "outputs": [
        {
          "output_type": "stream",
          "text": [
            "Feature: 0, Score: -0.01517\n",
            "Feature: 1, Score: 0.01515\n"
          ],
          "name": "stdout"
        },
        {
          "output_type": "display_data",
          "data": {
            "image/png": "[encoded data removed]",
            "text/plain": [
              "<Figure size 432x288 with 1 Axes>"
            ]
          },
          "metadata": {
            "tags": [],
            "needs_background": "light"
          }
        }
      ]
    },
    {
      "cell_type": "markdown",
      "metadata": {
        "id": "aACUCUAMcgit"
      },
      "source": [
        "'enabled_for_marketing_drip' shows a negligable difference between adopted users. This is also a weak indicator and not very useful for prediction of user adoption."
      ]
    },
    {
      "cell_type": "code",
      "metadata": {
        "id": "mQhcvs9wWb9Z"
      },
      "source": [
        "X2 = X.sort_values(by='acct_age')"
      ],
      "execution_count": 34,
      "outputs": []
    },
    {
      "cell_type": "code",
      "metadata": {
        "id": "K5PoJklFXaJa"
      },
      "source": [
        "# updated FUNCTION to store scores in a list\n",
        "hey = []\n",
        "hey2 = []\n",
        "def model_plot2(X1):\n",
        "  model = LogisticRegression()              #instantiate model\n",
        "  model.fit(X1, y)                          #train model\n",
        "  importance = model.coef_[0]               # get importance\n",
        "  for i,v in enumerate(importance):         # summarize feature importance\n",
        "    hey.append(i)\n",
        "    hey2.append(v)\n",
        "  plt.bar([x for x in range(len(importance))], importance)\n",
        "  plt.show()"
      ],
      "execution_count": 35,
      "outputs": []
    },
    {
      "cell_type": "code",
      "metadata": {
        "colab": {
          "base_uri": "https://localhost:8080/",
          "height": 295
        },
        "id": "nB6M1GrdjSOX",
        "outputId": "eb36cd4e-5ae1-4860-a332-02f977ede6ce"
      },
      "source": [
        "X1 = encode_transform(X2.acct_age)\t\n",
        "plt.title('account age in days')\n",
        "plt.xlabel('days')\n",
        "plt.ylabel('correlation')\n",
        "model_plot2(X1)"
      ],
      "execution_count": 36,
      "outputs": [
        {
          "output_type": "display_data",
          "data": {
            "image/png": "[encoded data removed]",
            "text/plain": [
              "<Figure size 432x288 with 1 Axes>"
            ]
          },
          "metadata": {
            "tags": [],
            "needs_background": "light"
          }
        }
      ]
    },
    {
      "cell_type": "code",
      "metadata": {
        "colab": {
          "base_uri": "https://localhost:8080/"
        },
        "id": "L72tg7WnhX73",
        "outputId": "13316521-9915-41ac-d62d-f012036e76ca"
      },
      "source": [
        "# check the mean of the positive correlations for 'account age in days'\n",
        "positive_corr = []\n",
        "for i in range(len(hey)):\n",
        "  if hey2[i] > 0:\n",
        "    positive_corr.append(hey2[i]) \n",
        "\n",
        "print(\"The average positive correlation is:\",round(np.mean(positive_corr),5))"
      ],
      "execution_count": 45,
      "outputs": [
        {
          "output_type": "stream",
          "text": [
            "The average positive correlation is: 0.41569\n"
          ],
          "name": "stdout"
        }
      ]
    },
    {
      "cell_type": "code",
      "metadata": {
        "colab": {
          "base_uri": "https://localhost:8080/"
        },
        "id": "Ubncq8K_lEJ9",
        "outputId": "a82b8948-a553-4795-9cb6-a8e315c25992"
      },
      "source": [
        "# check the mean of the negative correlations for 'account age in days'\n",
        "negative_corr = []\n",
        "for i in range(len(hey)):\n",
        "  if hey2[i] < 0:\n",
        "    negative_corr.append(hey2[i]) \n",
        "\n",
        "print(\"The average negative correlation is:\",round(np.mean(negative_corr),5))"
      ],
      "execution_count": 47,
      "outputs": [
        {
          "output_type": "stream",
          "text": [
            "The average negative correlation is: -0.27988\n"
          ],
          "name": "stdout"
        }
      ]
    },
    {
      "cell_type": "markdown",
      "metadata": {
        "id": "47xid3aYmLHA"
      },
      "source": [
        "Account age in days has the strongest positive correlation (0.4157) with user adoption. However, this is not particularly useful in predicting *future* user adoption, nor is it actionable. Some classes of Creation Source show actionable correlations. Particularly, Guest Invites and personal projects are the positively correlated creation sources. These inputs could be inferred from how the user signs-up such as whether the users is using a referral code (guest_invite, org_invite) or referral link. Marketing campaigns can be created around referrals which seems to be the most actionable information we can glean from this dataset."
      ]
    }
  ]
}